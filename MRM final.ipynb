{
 "cells": [
  {
   "cell_type": "code",
   "execution_count": 4,
   "id": "564705f8",
   "metadata": {},
   "outputs": [
    {
     "name": "stdout",
     "output_type": "stream",
     "text": [
      "Enter your movie name : Iron man\n",
      "Movies you might like : \n",
      "1. Iron Man\n",
      "2. Iron Man 2\n",
      "3. Iron Man 3\n",
      "4. Avengers: Age of Ultron\n",
      "5. The Avengers\n"
     ]
    }
   ],
   "source": [
    "import pandas as pd\n",
    "import numpy as np\n",
    "import difflib\n",
    "from sklearn.metrics.pairwise import cosine_similarity\n",
    "from sklearn.feature_extraction.text import TfidfVectorizer \n",
    "netflix=pd.read_csv('movies.csv')\n",
    "features=['genres','keywords','tagline','cast','director','overview']\n",
    "for i in features:\n",
    "    netflix[i]=netflix[i].fillna('')\n",
    "all_features=netflix['cast']+' '+netflix['genres']+' '+' '+netflix['keywords']+' '+netflix['tagline']+netflix['director']+netflix['overview']\n",
    "vect=TfidfVectorizer()\n",
    "feature_vector=vect.fit_transform(all_features)\n",
    "similarity = cosine_similarity(feature_vector)\n",
    "all_titles=netflix['title'].tolist()\n",
    "movie=input(\"Enter your movie name : \")\n",
    "all_close_match=difflib.get_close_matches(movie,all_titles)\n",
    "close_match=all_close_match[0]\n",
    "index=netflix[netflix.title==close_match]['index'].values[0]\n",
    "similarity_score=list(enumerate(similarity [index]))\n",
    "sorted_movies=sorted(similarity_score, key=lambda x:x[1],reverse=True)\n",
    "print(\"Movies you might like : \")\n",
    "count=1\n",
    "for i in sorted_movies:\n",
    "    index=i[0]\n",
    "    score=int(i[1]*100)\n",
    "    title_from_data=netflix[netflix.index==index]['title'].values[0]\n",
    "    if count<=5:\n",
    "        print(str(count)+'. '+title_from_data)\n",
    "        count+=1"
   ]
  },
  {
   "cell_type": "code",
   "execution_count": 10,
   "id": "78a3cbeb",
   "metadata": {},
   "outputs": [
    {
     "data": {
      "text/plain": [
       "array([[1.        , 0.05016606, 0.02145534, ..., 0.02635719, 0.03100322,\n",
       "        0.00674257],\n",
       "       [0.05016606, 1.        , 0.04328573, ..., 0.0510804 , 0.03277859,\n",
       "        0.01630919],\n",
       "       [0.02145534, 0.04328573, 1.        , ..., 0.02616905, 0.02235067,\n",
       "        0.01449825],\n",
       "       ...,\n",
       "       [0.02635719, 0.0510804 , 0.02616905, ..., 1.        , 0.03661528,\n",
       "        0.03789082],\n",
       "       [0.03100322, 0.03277859, 0.02235067, ..., 0.03661528, 1.        ,\n",
       "        0.03310653],\n",
       "       [0.00674257, 0.01630919, 0.01449825, ..., 0.03789082, 0.03310653,\n",
       "        1.        ]])"
      ]
     },
     "execution_count": 10,
     "metadata": {},
     "output_type": "execute_result"
    }
   ],
   "source": [
    "import pickle\n",
    "similarity = cosine_similarity(feature_vector)\n",
    "file=open(\"similarity.pkl\",\"wb\")\n",
    "pickle.dump(similarity, file)\n",
    "file.close()\n"
   ]
  },
  {
   "cell_type": "code",
   "execution_count": 13,
   "id": "4a4e6f4a",
   "metadata": {},
   "outputs": [],
   "source": [
    "import streamlit as st\n",
    "import pickle\n",
    "import difflib\n",
    "st.title(\"Movie suggestion page\")\n",
    "mov_list=pickle.load(open('movies.pkl','rb'))\n",
    "all_mov_list=mov_list['title'].values\n",
    "def suggest_movies(title):\n",
    "     all_titles = mov_list['title'].tolist()\n",
    "     movie = title\n",
    "     all_close_match = difflib.get_close_matches(movie, all_titles)\n",
    "     close_match = all_close_match[0]\n",
    "     index = mov_list[mov_list.title == close_match]['index'].values[0]\n",
    "     similarity_score = list(enumerate(similarity[index]))\n",
    "     sorted_movies = sorted(similarity_score, key=lambda x: x[1], reverse=True)\n",
    "     count = 1\n",
    "     suggestions=[]\n",
    "     st.write(\"Here are few movies you might like :\")\n",
    "     for i in sorted_movies:\n",
    "          index = i[0]\n",
    "          title_from_data = mov_list[mov_list.index == index]['title'].values[0]\n",
    "          if count <= 5:\n",
    "               suggestions.append(title_from_data)\n",
    "               count += 1\n",
    "     return suggestions\n",
    "\n",
    "\n",
    "\n",
    "similarity=pickle.load(open('similarity.pkl','rb'))\n",
    "\n",
    "\n",
    "user_title = st.selectbox(\n",
    "     'Hey there! please enter the title of your favorite movie : ',\n",
    "     all_mov_list)\n",
    "\n",
    "st.write('You selected:', user_title)\n",
    "if st.button('Suggest'):\n",
    "     for i in suggest_movies(user_title):\n",
    "          st.write(i)"
   ]
  }
 ],
 "metadata": {
  "kernelspec": {
   "display_name": "Python 3 (ipykernel)",
   "language": "python",
   "name": "python3"
  },
  "language_info": {
   "codemirror_mode": {
    "name": "ipython",
    "version": 3
   },
   "file_extension": ".py",
   "mimetype": "text/x-python",
   "name": "python",
   "nbconvert_exporter": "python",
   "pygments_lexer": "ipython3",
   "version": "3.9.6"
  }
 },
 "nbformat": 4,
 "nbformat_minor": 5
}
